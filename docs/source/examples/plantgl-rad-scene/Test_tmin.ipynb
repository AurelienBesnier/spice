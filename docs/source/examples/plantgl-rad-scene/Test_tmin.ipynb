{
 "cells": [
  {
   "cell_type": "markdown",
   "id": "2aad4573-aa8d-41c6-bb24-c96465e970fc",
   "metadata": {},
   "source": [
    "# Test Tmin"
   ]
  },
  {
   "cell_type": "code",
   "execution_count": 1,
   "id": "ab4bb157-8b8b-4250-9615-b498457c0509",
   "metadata": {},
   "outputs": [],
   "source": [
    "from openalea.spice.simulator import Simulator"
   ]
  },
  {
   "cell_type": "code",
   "execution_count": 6,
   "id": "b2ceac29-db94-41f6-ab34-f016f381406e",
   "metadata": {},
   "outputs": [],
   "source": [
    "simulator = Simulator(config_file=\"simulation.ini\")\n",
    "simulator.addVirtualDiskSensorsFromFile(\"./sensors/sensors_expe1.csv\")"
   ]
  },
  {
   "cell_type": "markdown",
   "id": "40c96231-be75-4a8e-9d60-7256bbdb36f5",
   "metadata": {},
   "source": [
    "### Test Tmin in complete scene"
   ]
  },
  {
   "cell_type": "code",
   "execution_count": 5,
   "id": "190b5859-7c7e-4923-a1a4-929bff275d68",
   "metadata": {},
   "outputs": [
    {
     "name": "stdout",
     "output_type": "stream",
     "text": [
      "Transparent material: Makrolon\n",
      "Backface Culling OFF\n",
      "---------------------------------\n",
      "Test Tmin = 1e-06\n",
      "nb photons per lights: 125000\n",
      "\n",
      "Tracing photons from light n° 1/8...\n",
      "Tracing photons from light n° 2/8...\n",
      "Tracing photons from light n° 3/8...\n",
      "Tracing photons from light n° 4/8...\n",
      "Tracing photons from light n° 5/8...\n",
      "Tracing photons from light n° 6/8...\n",
      "Tracing photons from light n° 7/8...\n",
      "Tracing photons from light n° 8/8...\n",
      "Max depth possible: 37\n",
      "Number of photons received in total is 7751\n",
      "---------------------------------\n",
      "---------------------------------\n",
      "Test Tmin = 1e-05\n",
      "nb photons per lights: 125000\n",
      "\n",
      "Tracing photons from light n° 1/8...\n",
      "Number of photons received in total is 7825\n",
      "---------------------------------\n",
      "---------------------------------\n",
      "Test Tmin = 0.0001\n",
      "Number of photons received in total is 7748\n",
      "---------------------------------\n",
      "---------------------------------\n",
      "Test Tmin = 0.001\n",
      "Number of photons received in total is 7855\n",
      "---------------------------------\n",
      "---------------------------------\n",
      "Test Tmin = 0.01\n",
      "Number of photons received in total is 7835\n",
      "---------------------------------\n",
      "---------------------------------\n",
      "Test Tmin = 0.1\n",
      "Number of photons received in total is 7864\n",
      "---------------------------------\n",
      "---------------------------------\n",
      "Test Tmin = 1.0\n",
      "Number of photons received in total is 8032\n",
      "---------------------------------\n",
      "---------------------------------\n",
      "Test Tmin = 10.0\n",
      "Tracing photons from light n° 2/8...\n",
      "Tracing photons from light n° 3/8...\n",
      "Tracing photons from light n° 4/8...\n",
      "Tracing photons from light n° 5/8...\n",
      "Tracing photons from light n° 6/8...\n",
      "Tracing photons from light n° 7/8...\n",
      "Tracing photons from light n° 8/8...\n",
      "Max depth possible: 37\n",
      "nb photons per lights: 125000\n",
      "\n",
      "Tracing photons from light n° 1/8...\n",
      "Tracing photons from light n° 2/8...\n",
      "Tracing photons from light n° 3/8...\n",
      "Tracing photons from light n° 4/8...\n",
      "Tracing photons from light n° 5/8...\n",
      "Tracing photons from light n° 6/8...\n",
      "Tracing photons from light n° 7/8...\n",
      "Tracing photons from light n° 8/8...\n",
      "Max depth possible: 37\n",
      "nb photons per lights: 125000\n",
      "\n",
      "Tracing photons from light n° 1/8...\n",
      "Tracing photons from light n° 2/8...\n",
      "Tracing photons from light n° 3/8...\n",
      "Tracing photons from light n° 4/8...\n",
      "Tracing phNumber of photons received in total is 9346\n",
      "---------------------------------\n",
      "---------------------------------\n",
      "Test Tmin = 100.0\n",
      "otons from light n° 5/8...\n",
      "Tracing photons from light n° 6/8...\n",
      "Tracing photons from light n° 7/8...\n",
      "Tracing photons from light n° 8/8...\n",
      "Max depth possible: 43\n",
      "nb photons per lights: 125000\n",
      "\n",
      "Tracing photons from light n° 1/8...\n",
      "Tracing photons from light n° 2/8...\n",
      "Tracing photons from light n° 3/8...\n",
      "Tracing photons from light n° 4/8...\n",
      "Tracing photons from light n° 5/8...\n",
      "Tracing photons from light n° 6/8...\n",
      "Tracing photons from light n° 7/8...\n",
      "Tracing photons from light n° 8/8...\n",
      "Max depth possible: 43\n",
      "nb photons per lights: 125000\n",
      "\n",
      "Tracing photons from light n° 1/8...\n",
      "Tracing photons from light n° 2/8...\n",
      "Tracing photons from light n° 3/8...\n",
      "Tracing photons from light n° 4/8...\n",
      "Tracing photons from light n° 5/8...\n",
      "Tracing photons from light n° 6/8...\n",
      "Tracing photons from light n° 7/8...\n",
      "Tracing photons from light n° 8/8...\n",
      "Max depth possible: 43\n",
      "nb photons per lights: 125000\n",
      "\n",
      "Tracing photons from light n° 1/8...\n",
      "Tracing photons from light n° 2/8...\n",
      "Tracing photons from light n° 3/8...\n",
      "Tracing photons from light n° 4/8...\n",
      "Tracing photons from light n° 5/8...\n",
      "Tracing photons from light n° 6/8...\n",
      "Tracing photons from light n° 7/8...\n",
      "Tracing photons from light n° 8/8...\n",
      "Max depth possible: 43\n",
      "nb photons per lights: 125000\n",
      "\n",
      "Tracing photons from light n° 1/8...\n",
      "Tracing photons from light n° 2/8...\n",
      "Tracing photons from light n° 3/8...\n",
      "Tracing photons from light n° 4/8...\n",
      "Tracing photons from light n° 5/8...\n",
      "Tracing photons from light n° 6/8...\n",
      "Tracing photons from light n° 7/8...\n",
      "Tracing photons from light n° 8/8...\n",
      "Max depth possible: 38\n",
      "nb photons per lights: 125000\n",
      "\n",
      "Tracing photons from light n° 1/8...\n",
      "Tracing photons from light n° 2/8...\n",
      "Tracing photons from light n° 3/8...\n",
      "Tracing photons from light n° 4/8...\n",
      "Tracing photons from light n° 5/8...\n",
      "Tracing photons from light n° 6/8...\n",
      "Tracing photons from light n° 7/8...\n",
      "Tracing photons from light n° 8/8...\n",
      "Max depth possible: 36\n",
      "Number of photons received in total is 9135\n",
      "---------------------------------\n",
      "---------------------------------\n",
      "Test Tmin = 1000.0\n",
      "nb photons per lights: 125000\n",
      "\n",
      "Tracing photons from light n° 1/8...\n",
      "Tracing photons from light n° 2/8...\n",
      "Tracing photons from light n° 3/8...\n",
      "Tracing photons from light n° 4/8...\n",
      "Tracing photons from light n° 5/8...\n",
      "Tracing photons from light n° 6/8...\n",
      "Tracing photons from light n° 7/8...\n",
      "Tracing photons from light n° 8/8...\n",
      "Max depth possible: 11\n",
      "Number of photons received in total is 2145\n",
      "---------------------------------\n",
      "---------------------------------\n",
      "Test Tmin = 10000.0\n",
      "nb photons per lights: 125000\n",
      "\n",
      "Tracing photons from light n° 1/8...\n",
      "Number of photons received in total is 0\n",
      "---------------------------------\n",
      "Tracing photons from light n° 2/8...\n",
      "Tracing photons from light n° 3/8...\n",
      "Tracing photons from light n° 4/8...\n",
      "Tracing photons from light n° 5/8...\n",
      "Tracing photons from light n° 6/8...\n",
      "Tracing photons from light n° 7/8...\n",
      "Tracing photons from light n° 8/8...\n",
      "Max depth possible: 0\n"
     ]
    },
    {
     "data": {
      "image/png": "[encoded data removed]",
      "text/plain": [
       "<Figure size 640x480 with 1 Axes>"
      ]
     },
     "metadata": {},
     "output_type": "display_data"
    }
   ],
   "source": [
    "simulator.test_t_min(int(1e6), 1e-6, 11, False)"
   ]
  },
  {
   "cell_type": "markdown",
   "id": "6a590ac0-b19b-4a85-8bd1-04c1aba94503",
   "metadata": {},
   "source": [
    "### Test Tmin in scene with only lamps and captors"
   ]
  },
  {
   "cell_type": "code",
   "execution_count": null,
   "id": "bf7979a6-1764-4c81-8d1e-a849e6cf7ddd",
   "metadata": {
    "scrolled": true
   },
   "outputs": [],
   "source": [
    "simulator.test_t_min(int(1e7), 1e-6, 11, True)"
   ]
  }
 ],
 "metadata": {
  "kernelspec": {
   "display_name": "Python 3 (ipykernel)",
   "language": "python",
   "name": "python3"
  },
  "language_info": {
   "codemirror_mode": {
    "name": "ipython",
    "version": 3
   },
   "file_extension": ".py",
   "mimetype": "text/x-python",
   "name": "python",
   "nbconvert_exporter": "python",
   "pygments_lexer": "ipython3",
   "version": "3.12.3"
  },
  "widgets": {
   "application/vnd.jupyter.widget-state+json": {
    "state": {},
    "version_major": 2,
    "version_minor": 0
   }
  }
 },
 "nbformat": 4,
 "nbformat_minor": 5
}
